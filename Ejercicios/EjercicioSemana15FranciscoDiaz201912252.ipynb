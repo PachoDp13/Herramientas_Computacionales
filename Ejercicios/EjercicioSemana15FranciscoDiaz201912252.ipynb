{
 "cells": [
  {
   "cell_type": "markdown",
   "metadata": {},
   "source": [
    "## 0. Importado de librerías (valor 0.2) \n",
    "\n",
    "**Resuelva los siguientes ejercicios acá mismo en un cuaderno de Jupyter con su nombre, código y la palabra `semana_15`. Importe todas las librerías y funciones que crea convenientes.**\n"
   ]
  },
  {
   "cell_type": "code",
   "execution_count": 134,
   "metadata": {},
   "outputs": [],
   "source": [
    "!python -m pip install pyforest\n",
    "!python -m pip install matplotlib\n",
    "!python -m pip install random\n",
    "%matplotlib inline\n",
    "import numpy as np\n",
    "import matplotlib.pyplot as plt \n",
    "import matplotlib.animation as animation\n",
    "import random as rd\n",
    "from matplotlib import rcParams\n",
    "from matplotlib.animation import FuncAnimation \n"
   ]
  },
  {
   "cell_type": "markdown",
   "metadata": {},
   "source": [
    "## 1. Generando una animación del movimiento browniano\n",
    "\n",
    "La siguiente celda de código genera (con las librerías adecuadas) un par de *arrays* de las posiciones $(x,y)$ de una partícula que sigue un movimiento browniano. El número total de puntos es 200. El objetivo será crear un archivo `.gif` que muestre una animación de dicho movimiento. De hecho, debe generarse un archivo tal como el archivo adjunto al ejercicio llamado `browniand.gif`."
   ]
  },
  {
   "cell_type": "code",
   "execution_count": 122,
   "metadata": {},
   "outputs": [],
   "source": [
    "\n",
    "rcParams['font.family'] = 'serif'\n",
    "npoint=200\n",
    "rd.seed(50)\n",
    "xlist=[0]\n",
    "ylist=[0]\n",
    "for i in range(npoint-1):\n",
    "    xp,yp=xlist[-1],ylist[-1]\n",
    "    r,th=rd.gauss(0,1),rd.uniform(0,1)*np.pi\n",
    "    xn,yn=r*np.cos(th),r*np.sin(th)\n",
    "    xlist.append(xn)\n",
    "    ylist.append(yn)\n",
    "xlist,ylist=map(np.array,(xlist,ylist))\n",
    "fig=plt.figure(figsize=(8,8/1.65))\n",
    "ax1 = fig.add_subplot(111)\n",
    "ax1.plot(xlist,ylist,color=(0.7,0.7,0.3,0.8),linewidth=2.3)\n",
    "fsize=13\n",
    "ax1.set_title(\"Movimiento browniano\",fontsize=fsize)\n",
    "ax1.set_ylabel(\"Posición $y$\",fontsize=fsize)\n",
    "ax1.set_xlabel(\"Posición $x$\",fontsize=fsize)\n",
    "ax1.tick_params(labelsize=fsize)\n",
    "\n",
    "def animate(k):\n",
    "# Se borra el axis anterior. Es importante que ya se haya definido uno como la gráfica base\n",
    "# de la celda previa.\n",
    "    ax1.clear()\n",
    "# Se define el valor de phi y se generan los puntos (x,y)\n",
    "# Se grafica\n",
    "    ax1.plot(xlist,ylist,color=(0.7,0.7,0.3,0.8),linewidth=2.3)\n",
    "# Se define muy bien el aspecto\n",
    "\n",
    "    ax1.set_title(\"Movimiento browniano\",fontsize=fsize)\n",
    "    ax1.set_ylabel(\"Posición $y$\",fontsize=fsize)\n",
    "    ax1.set_xlabel(\"Posición $x$\",fontsize=fsize)\n",
    "    ax1.tick_params(labelsize=fsize)\n",
    "\n",
    "    \n",
    "#Se genera el archivo .gif\n",
    "ani = FuncAnimation(fig,animate,frames=201,interval=30,repeat=True)\n",
    "ani.save('browniand.gif', writer='imagemagick')\n"
   ]
  },
  {
   "cell_type": "markdown",
   "metadata": {},
   "source": [
    "### 1.1. Ejemplo de un cuadro\n",
    "\n",
    "La siguiente línea de código genera (con las librerías adecuadas) el ejemplo de un cuadro de la animación. Se trata de la trayectoria del momento `k+20` y los 20 momentos anteriores desvaneciéndose en intensidad. Fíjese que se usa la función `plt.plot` en un `for` así que es mejor usar el método simple de generar cada cuadro borrando el anterior (sección 1 del ejemplo). Sin embargo, si usted compara este cuadro con los cuadros de la animación objetivo `browniand.gif`, usted notará que todavía debe configurar varios aspectos de la gráfica. Buena parte de su puntaje de calificación se dará de acuerdo a su capacidad de configurar los cuadros de forma consistente e idéntica a los del archivo objetivo `browniand.gif`. "
   ]
  },
  {
   "cell_type": "code",
   "execution_count": 128,
   "metadata": {},
   "outputs": [
    {
     "data": {
      "image/png": "[encoded data removed]",
      "text/plain": [
       "<Figure size 432x288 with 1 Axes>"
      ]
     },
     "metadata": {
      "needs_background": "light"
     },
     "output_type": "display_data"
    }
   ],
   "source": [
    "k=25\n",
    "adv=20\n",
    "hue=(0.1+np.linspace(0,0.9,adv))**2\n",
    "for j in range(adv):\n",
    "    i=k+j\n",
    "    plt.plot(xlist[i:i+2],ylist[i:i+2],color=(hue[j],0.3,0.6,hue[j]),linewidth=4)"
   ]
  },
  {
   "cell_type": "markdown",
   "metadata": {},
   "source": [
    "### 1.2 Sistema de calificación\n",
    "\n",
    "Su calificación se hará de acuerdo al siguiente sistema de puntajes (más el 0.2 de la importación de librerías):\n",
    "1. (0.3) Define adecuadamente que la gráfica siempre se mantenga en los valores de $(x,y)\\in[-3,3]^2$ (límites de $x$ y $y$).\n",
    "2. (0.3) Se asegura de que la gráfica tenga un título variable según el instante $T$ igual al valor de `k` tal como se muestra en el archivo `browniand.gif`.\n",
    "3. (0.3) Los títulos de los ejes son tales como se muestra en el archivo `browniand.gif`.\n",
    "4. (0.3) Se asegura de que el aspecto de la gráfica sea cuadrado. La línea de configuración de `fig` debería ser: `fig=plt.figure(figsize=(7,7))`. Y el tamaño de todas las fuentes es igual a 15.\n",
    "5. (0.3) Los cuadros deben cambiar cada 250 milisegundos, y el número de cuadros deberá ser 180 a partir de `k=0`. \n",
    "6. (1.3) Logra generar un archivo  `nombre_codigo.gif` de salida con la animación pedida. Fíjese que el nombre del archivo es individual.\n",
    "7. (1.0) Demuestra que entiende la construcción de la función `animate`, borrando adecuadamente el cuadro anterior, etc.\n",
    "8. (1.0) Demuesta que entiende el uso de la función `FuncAnimation`."
   ]
  }
 ],
 "metadata": {
  "kernelspec": {
   "display_name": "Python 3",
   "language": "python",
   "name": "python3"
  },
  "language_info": {
   "codemirror_mode": {
    "name": "ipython",
    "version": 3
   },
   "file_extension": ".py",
   "mimetype": "text/x-python",
   "name": "python",
   "nbconvert_exporter": "python",
   "pygments_lexer": "ipython3",
   "version": "3.7.6"
  }
 },
 "nbformat": 4,
 "nbformat_minor": 2
}
