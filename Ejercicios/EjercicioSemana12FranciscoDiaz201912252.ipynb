{
 "cells": [
  {
   "cell_type": "markdown",
   "metadata": {},
   "source": [
    "## 0. Importado de librerías (valor 0.2) \n",
    "\n",
    "**Resuelva los siguientes ejercicios acá mismo en un cuaderno de Jupyter con su nombre, código y la palabra `semana_11`. Importe todas las librerías que crea convenientes.**\n",
    "### Estudiante:\n",
    "#### Francisco Javier Díaz Perdomo   COD:201912252\n",
    "\n",
    "$$\n",
    "\\newcommand{\\pap}[1]{\\left(#1\\right)}\n",
    "\\newcommand{\\pas}[1]{\\left[#1\\right]}\n",
    "\\newcommand{\\pac}[1]{\\left\\{#1\\right\\}}\n",
    "\\newcommand{\\pav}[1]{\\left\\vert#1\\right\\vert}\n",
    "\\newcommand{\\rv}{\\vec{r}}\n",
    "\\newcommand{\\rb}{\\mathbf{r}}\n",
    "\\newcommand{\\xb}{\\mathbf{x}}\n",
    "\\newcommand{\\xv}{\\vec{x}}\n",
    "\\newcommand{\\xbr}{\\bar{x}}\n",
    "\\newcommand{\\ome}{\\omega}\n",
    "\\newcommand{\\lam}{\\lambda}\n",
    "\\newcommand{\\ee}{\\mathrm{e}}\n",
    "\\newcommand{\\eps}{\\epsilon}\n",
    "\\newcommand{\\iun}{\\hat{\\boldsymbol{\\imath}}}\n",
    "\\newcommand{\\jun}{\\hat{\\boldsymbol{\\jmath}}}\n",
    "\\newcommand{\\pr}{^{\\prime}}\n",
    "\\newcommand{\\chinu}{\\chi_{\\nu}^2}\n",
    "$$"
   ]
  },
  {
   "cell_type": "code",
   "execution_count": 81,
   "metadata": {},
   "outputs": [
    {
     "name": "stdout",
     "output_type": "stream",
     "text": [
      "Requirement already satisfied: pyforest in /srv/conda/envs/notebook/lib/python3.7/site-packages (1.0.3)\n",
      "Requirement already satisfied: matplotlib in /srv/conda/envs/notebook/lib/python3.7/site-packages (3.2.1)\n",
      "Requirement already satisfied: kiwisolver>=1.0.1 in /srv/conda/envs/notebook/lib/python3.7/site-packages (from matplotlib) (1.2.0)\n",
      "Requirement already satisfied: cycler>=0.10 in /srv/conda/envs/notebook/lib/python3.7/site-packages (from matplotlib) (0.10.0)\n",
      "Requirement already satisfied: python-dateutil>=2.1 in /srv/conda/envs/notebook/lib/python3.7/site-packages (from matplotlib) (2.8.1)\n",
      "Requirement already satisfied: numpy>=1.11 in /srv/conda/envs/notebook/lib/python3.7/site-packages (from matplotlib) (1.18.3)\n",
      "Requirement already satisfied: pyparsing!=2.0.4,!=2.1.2,!=2.1.6,>=2.0.1 in /srv/conda/envs/notebook/lib/python3.7/site-packages (from matplotlib) (2.4.7)\n",
      "Requirement already satisfied: six in /srv/conda/envs/notebook/lib/python3.7/site-packages (from cycler>=0.10->matplotlib) (1.14.0)\n"
     ]
    }
   ],
   "source": [
    "!python -m pip install pyforest\n",
    "!python -m pip install matplotlib\n",
    "\n",
    "import numpy as np\n",
    "from numpy import random\n",
    "from random import *\n",
    "import matplotlib.pyplot as plt\n",
    "%matplotlib inline"
   ]
  },
  {
   "cell_type": "markdown",
   "metadata": {},
   "source": [
    "# I. La distribución exponencial\n",
    "\n",
    "## I.1 Generación de los datos (valor 0.8)\n",
    "\n",
    "Genere aleatoriamonte $10^6$ números $t$ a partir de la [distribución exponencial](https://en.wikipedia.org/wiki/Exponential_distribution), la cual tiene la siguiente función de densidad de probabilidad,\n",
    "$$\n",
    "f(t)=\\frac{\\ee^{-t/\\tau}}{\\tau}\\:\\:\\:\\text{para $t\\in[0,\\infty)$ .}\n",
    "\\tag{1}\n",
    "$$\n",
    "En el fondo esta función modela un **proceso de Poisson** como los _clicks_ en un [contador Geiger](https://en.wikipedia.org/wiki/Geiger_counter). En realidad, con esta función se simula cualquier proceso donde la ocurrencia de un evento es totalmente independiente de los demás, pero existe un número de eventos promedio en un intervalo. En particular, la variable $t$ puede ser el tiempo que hay que esperar entre dos eventos consecutivos siendo $\\tau$ su tiempo promedio. Vamos a imaginar que estos tiempos son los segundos que hay que esperar entre dos _clicks_ consecutivos de un contador Geiger. Escoja un valor de $\\tau$ entre 0.01 y 0.07 utilizando las función `expovariate` de la librería `random`. **Note que la función `random.expovariate` pide como parámetro:** $\\lam=\\frac{1}{\\tau}$. La lista de números aleatorios debe ser un _array_ de `numpy` llamado `tlist`."
   ]
  },
  {
   "cell_type": "markdown",
   "metadata": {},
   "source": [
    "## I.2 Confirmación de estadísticos (valor 0.8)\n",
    "\n",
    "Consulte en la [página de Wikipedia](https://en.wikipedia.org/wiki/Exponential_distribution) cúales son los valores del promedio, la mediana y la desviación estándar de la distribución en función de $\\tau$. Estos valores se conocen como **_estadísticos_**. **Note que en Wikipedia el parámetro utilizado es:** $\\lam=\\frac{1}{\\tau}$. Mediante funciones `print`, compare los tres estadísticos mencionados de su lista `tlist` con los que en teoría son predichos para esa distribución. Use por lo menos seis decimales al mostrar los números que está comparando."
   ]
  },
  {
   "cell_type": "markdown",
   "metadata": {},
   "source": [
    "## I.3. Confirmación gráfica 1 (valor 0.8)\n",
    "\n",
    "Realice una gráfica que superponga un histograma de `tlist` debidamente normalizado a la curva $f(t)$ tal como se describe en la Ec. (1). La gráfica debe estar en el intervalo $t\\in\\pas{0,5\\tau}$ y debe tener al menos 40 intervalos de histograma. Además, la gráfica debe tener un título y una leyenda debidamente configurados."
   ]
  },
  {
   "cell_type": "code",
   "execution_count": 197,
   "metadata": {},
   "outputs": [
    {
     "name": "stdout",
     "output_type": "stream",
     "text": [
      "Valores estadísticos calculados:\n",
      "Promedio: 0.050086541291066815\n",
      "Mediana:  0.034719510821208985\n",
      "Desviación estándar:  0.050086620435105374\n",
      "Valores téoricos:\n",
      "Promedio: 0.05\n",
      "Mediana:  0.03465735902799726\n",
      "Desviación estándar:  0.05\n"
     ]
    },
    {
     "data": {
      "text/plain": [
       "<function matplotlib.pyplot.show(*args, **kw)>"
      ]
     },
     "execution_count": 197,
     "metadata": {},
     "output_type": "execute_result"
    },
    {
     "data": {
      "image/png": "[encoded data removed]",
      "text/plain": [
       "<Figure size 1000x618.047 with 1 Axes>"
      ]
     },
     "metadata": {
      "needs_background": "light"
     },
     "output_type": "display_data"
    }
   ],
   "source": [
    "# I. La distribución exponencial\n",
    "# I.1 Generación de los datos\n",
    "\n",
    "tau= 0.05\n",
    "tlist =np.random.exponential(tau,1000000)\n",
    "\n",
    "# I.2 Comfirmación de estadísticos\n",
    "\n",
    "print (\"Valores estadísticos calculados:\")\n",
    "print (\"Promedio:\", np.mean(tlist))\n",
    "print (\"Mediana: \", np.median(tlist))\n",
    "print (\"Desviación estándar: \", np.std(tlist))\n",
    "print (\"Valores téoricos:\")\n",
    "print (\"Promedio:\", tau)\n",
    "print (\"Mediana: \", tau*np.log(2))\n",
    "print (\"Desviación estándar: \",tau)\n",
    "\n",
    "# I.3 Confirmación gráfica 1\n",
    "\n",
    "plt.figure(figsize=(10,10/1.618),dpi=100)\n",
    "plt.hist(tlist,50, range= (0, 5*tau),density = True,color = \"blue\")\n",
    "plt.xlim(0,5*tau)\n",
    "plt.title(\"Distribución exponencial\")\n",
    "plt.legend([r'Histograma normalizado a $f(t)= \\frac{e^{-t / \\tau}}{\\tau} $'],loc='best')\n",
    "######################################\n",
    "plt.show\n",
    "\n"
   ]
  },
  {
   "cell_type": "markdown",
   "metadata": {},
   "source": [
    "## I.3. Confirmación gráfica 2 (valor 0.8)\n",
    "\n",
    "Realice una gráfica que superponga un histograma de **probabilidades acumuladas** de `tlist` debidamente normalizado a la curva de probabilidad acumulada definida como:\n",
    "$$\n",
    "F(t)=1-\\ee^{-t/\\tau} \\;.\n",
    "\\tag{2}\n",
    "$$ \n",
    "La gráfica debe estar en el intervalo $t\\in\\pas{0,5\\tau}$ y debe tener al menos 40 intervalos de histograma. Además, la gráfica debe tener un título y una leyenda debidamente configurados."
   ]
  },
  {
   "cell_type": "code",
   "execution_count": 198,
   "metadata": {},
   "outputs": [
    {
     "data": {
      "text/plain": [
       "<function matplotlib.pyplot.show(*args, **kw)>"
      ]
     },
     "execution_count": 198,
     "metadata": {},
     "output_type": "execute_result"
    },
    {
     "data": {
      "image/png": "[encoded data removed]",
      "text/plain": [
       "<Figure size 1000x618.047 with 1 Axes>"
      ]
     },
     "metadata": {
      "needs_background": "light"
     },
     "output_type": "display_data"
    }
   ],
   "source": [
    "# I.3 Confirmación gráfica 2\n",
    "plt.figure(figsize=(10,10/1.618),dpi=100)\n",
    "\n",
    "plt.hist(tlist,50, range= (0, 5*tau),density = True,cumulative = True,color = \"blue\")\n",
    "plt.xlim(0,5*tau)\n",
    "plt.title(\"Distribución exponencial\")\n",
    "plt.legend([r'Histograma normalizado: $f(t)= \\frac{e^{-t / \\tau}}{\\tau} $'],loc='best')\n",
    "######################################\n",
    "plt.show"
   ]
  },
  {
   "cell_type": "markdown",
   "metadata": {},
   "source": [
    "# II. La distribución de Poisson\n",
    "\n",
    "## II.0 Generando los datos\n",
    "\n",
    "Escoja un valor de la variable `T` entre 0.8 y 3. Con la siguiente celda usted va a generar una nueva lista de números aleatorios llamada `nlist`. Tenga un poco de paciencia, el procesado de los datos tardará unos pocos segundos. Estos nuevos datos son todos enteros y en teoría deberían seguir una [**_distribución de Poisson_**](https://en.wikipedia.org/wiki/Poisson_distribution) con promedio $\\mu = \\frac{T}{\\tau}$. En nuestro ejercicio imaginario, esta variable representa el número de _clicks_ que el contador Geiger detecta en un intervalo de tiempo $T$. \n"
   ]
  },
  {
   "cell_type": "code",
   "execution_count": 199,
   "metadata": {},
   "outputs": [],
   "source": [
    "T=1\n",
    "def poisson_from_tlist(tlist,tau,T):\n",
    "    n=len(tlist)\n",
    "    nlist=[]\n",
    "    for i in range(n-60*int(np.round(T/tau))):\n",
    "        n=-1\n",
    "        x=0\n",
    "        j=0\n",
    "        while x<T:\n",
    "            n+=1\n",
    "            x+=tlist[i+j]\n",
    "            j+=1\n",
    "        nlist.append(n)\n",
    "    return np.array(nlist)\n",
    "nlist=poisson_from_tlist(tlist,tau,T)"
   ]
  },
  {
   "cell_type": "markdown",
   "metadata": {},
   "source": [
    "## II.1 Comparando estadísticos (valor 0.8)\n",
    "\n",
    "Haga una comparacióna análoga a la del punto **II.2** pero con `nlist` y la distribución de Poisson."
   ]
  },
  {
   "cell_type": "code",
   "execution_count": 204,
   "metadata": {},
   "outputs": [
    {
     "name": "stdout",
     "output_type": "stream",
     "text": [
      "Valores estadísticos calculados:\n",
      "Promedio: 19.96092010412495\n",
      "Mediana:  20.0\n",
      "Desviación estándar:  4.450104010612632\n",
      "Valores téoricos:\n",
      "Promedio: 20.0\n",
      "Mediana:  20.33233333333333\n",
      "Desviación estándar:  4.47213595499958\n"
     ]
    }
   ],
   "source": [
    "# II.1 Comparando estadísticos\n",
    "\n",
    "print (\"Valores estadísticos calculados:\")\n",
    "print (\"Promedio:\", np.mean(nlist))\n",
    "print (\"Mediana: \", np.median(nlist))\n",
    "print (\"Desviación estándar: \", np.std(nlist))\n",
    "print (\"Valores téoricos:\")\n",
    "print (\"Promedio:\", (1/tau))\n",
    "print (\"Mediana: \", (1/tau)+(1/3)-(0.02*tau))\n",
    "print (\"Desviación estándar: \",(1/tau)**(1/2))"
   ]
  },
  {
   "cell_type": "markdown",
   "metadata": {},
   "source": [
    "## II.2 Confirmación gráfica (valor 0.8)\n",
    "\n",
    "Haga una comparacióna análoga a la del punto **II.3** pero con `nlist` y la distribución de Poisson. Los valores de $n$ recomendados son $n\\in\\pac{1,2,\\ldots,n_{\\max}-1,n_{\\max}}$ donde $n_{\\max}=\\left \\lceil{2.1 \\mu}\\right \\rceil $ (el entero igual o inmediatamente por encima de $2.1\\mu$). En este caso, cada número entero debe tener su probabilidad distinta, para lograr esto, escoja el número de `bins` como $n_{\\max}+1$."
   ]
  },
  {
   "cell_type": "code",
   "execution_count": 203,
   "metadata": {},
   "outputs": [
    {
     "name": "stdout",
     "output_type": "stream",
     "text": [
      "Valores estadísticos calculados:\n",
      "Promedio: 19.96092010412495\n",
      "Mediana:  20.0\n",
      "Desviación estándar:  4.450104010612632\n",
      "Valores téoricos:\n",
      "Promedio: 20.0\n",
      "Mediana:  20.33233333333333\n",
      "Desviación estándar:  4.47213595499958\n",
      "20.0\n"
     ]
    },
    {
     "data": {
      "text/plain": [
       "<function matplotlib.pyplot.show(*args, **kw)>"
      ]
     },
     "execution_count": 203,
     "metadata": {},
     "output_type": "execute_result"
    },
    {
     "data": {
      "image/png": "[encoded data removed]",
      "text/plain": [
       "<Figure size 1000x618.047 with 1 Axes>"
      ]
     },
     "metadata": {
      "needs_background": "light"
     },
     "output_type": "display_data"
    }
   ],
   "source": [
    "# II.2 Confirmación gráfica\n",
    "\n",
    "mu= T/tau\n",
    "print (1/tau)\n",
    "nmax= int(np.ceil(2.1*mu))\n",
    "                  \n",
    "plt.figure(figsize=(10,10/1.618),dpi=100)\n",
    "plt.hist(nlist,nmax+1, range= (0, nmax),density = True,color = \"blue\")\n",
    "plt.xlim(1,nmax)\n",
    "plt.title(\"Distribución exponencial\")\n",
    "plt.legend([r'Histograma normalizado: $f(t)= \\frac{e^{-t / \\tau}}{\\tau} $'],loc='best')\n",
    "######################################\n",
    "plt.show\n"
   ]
  }
 ],
 "metadata": {
  "kernelspec": {
   "display_name": "Python 3",
   "language": "python",
   "name": "python3"
  },
  "language_info": {
   "codemirror_mode": {
    "name": "ipython",
    "version": 3
   },
   "file_extension": ".py",
   "mimetype": "text/x-python",
   "name": "python",
   "nbconvert_exporter": "python",
   "pygments_lexer": "ipython3",
   "version": "3.7.6"
  }
 },
 "nbformat": 4,
 "nbformat_minor": 2
}
