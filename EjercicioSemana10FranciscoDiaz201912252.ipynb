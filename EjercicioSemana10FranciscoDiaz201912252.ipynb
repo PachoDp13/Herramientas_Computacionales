{
 "cells": [
  {
   "cell_type": "code",
   "execution_count": null,
   "metadata": {},
   "outputs": [],
   "source": [
    "!python -m pip install pyforest\n",
    "!python -m pip install matplotlib\n",
    "\n",
    "import numpy as nmp\n",
    "import matplotlib.pyplot as plt\n",
    "from mpl_toolkits.mplot3d import Axes3D\n",
    "%matplotlib inline"
   ]
  },
  {
   "cell_type": "markdown",
   "metadata": {},
   "source": [
    "$$\n",
    "\\newcommand{\\pap}[1]{\\left(#1\\right)}\n",
    "\\newcommand{\\pas}[1]{\\left[#1\\right]}\n",
    "\\newcommand{\\pac}[1]{\\left\\{#1\\right\\}}\n",
    "\\newcommand{\\pav}[1]{\\left\\vert#1\\right\\vert}\n",
    "\\newcommand{\\rv}{\\vec{r}}\n",
    "\\newcommand{\\rb}{\\mathbf{r}}\n",
    "\\newcommand{\\xb}{\\mathbf{x}}\n",
    "\\newcommand{\\xv}{\\vec{x}}\n",
    "\\newcommand{\\ome}{\\omega}\n",
    "\\newcommand{\\eps}{\\epsilon}\n",
    "\\newcommand{\\ee}{\\mathrm{e}}\n",
    "\\newcommand{\\iun}{\\hat{\\boldsymbol{\\imath}}}\n",
    "\\newcommand{\\jun}{\\hat{\\boldsymbol{\\jmath}}}\n",
    "$$\n",
    "## 0. Indicaciones\n",
    "### Estudiante: Francisco Javier Díaz Perdomo COD:201912252\n",
    "\n",
    "**Resuelva los siguientes ejercicios acá mismo en un cuaderno de Jupyter con su nombre, código y la palabra `semana_10`. Importe todas las librerías que crea convenientes.**\n"
   ]
  },
  {
   "cell_type": "markdown",
   "metadata": {},
   "source": [
    "\n",
    "## 1. Método de Newton-Raphson \n",
    "\n",
    "### 1.1 Hallar la raíz (Valor 1.5)\n",
    "\n",
    "Se sabe que la función:\n",
    "$$\n",
    "f\\pap{x}=\\sin(5x)\\ee^{-x}+x-2\n",
    "\\tag{1}\n",
    "$$\n",
    "\n",
    "tiene una raíz $x_r$ en el intervalo $I=\\pas{1,3}$. El objetivo será hallar dicha raíz mediante el _método de Newton-Raphson_. Encuentre dicha raíz con una precisión $\\eps =10^{-7}$. Mediante un `print` exprese la solución hallada (siga el ejemplo al respecto).\n",
    "\n",
    "**Nota:** La derivada de dicha función es\n",
    "$$\n",
    "f^{\\prime}(x)=\\pap{5\\cos(5x)-\\sin(5x)}\\ee^{-x}+1\\;.\n",
    "\\tag{2}\n",
    "$$\n",
    "\n",
    "### 1.2 Graficar el método (valor 1.0)\n",
    "\n",
    "Grafique la función $f(x)$ y los tres primeros pasos del método descrito en el punto anterior.\n"
   ]
  },
  {
   "cell_type": "code",
   "execution_count": 10,
   "metadata": {},
   "outputs": [
    {
     "name": "stdout",
     "output_type": "stream",
     "text": [
      "Valor de (x0,y0)=(-2,0.02)\n",
      "Valor de (x1,y1)=(-1.999,-0.0)\n",
      "Raíz hallada: (x2,y2)= ( -1.999 , -0.0 )\n",
      "Valor de (x0,y0)=(-2.5,-3.692)\n",
      "Valor de (x1,y1)=(-2.439,-0.302)\n",
      "Valor de (x2,y2)=(-2.433,-0.004)\n",
      "Valor de (x3,y3)=(-2.433,-0.0)\n",
      "Raíz hallada: (x4,y4)= ( -2.433 , -0.0 )\n",
      "Valor de (x0,y0)=(1,-1.353)\n",
      "Valor de (x1,y1)=(1.722,-0.148)\n",
      "Valor de (x2,y2)=(2.296,0.207)\n",
      "Valor de (x3,y3)=(2.14,0.027)\n",
      "Valor de (x4,y4)=(2.111,0.001)\n",
      "Valor de (x5,y5)=(2.109,0.0)\n",
      "Raíz hallada: (x6,y6)= ( 2.109 , 0.0 )\n",
      "Raíces halladas: [-1.999, -2.433, 2.109]\n"
     ]
    }
   ],
   "source": [
    "#1. Método de Newton-Raphson\n",
    "#1.1 Hallar la Raíz\n",
    "#Definimos la función y la primera derivada\n",
    "fun= lambda x:(nmp.sin(5*x)*nmp.exp(-1*x))+x-2\n",
    "funp= lambda x:(((5*nmp.cos(5*x))-nmp.sin(5*x))*nmp.exp(-1*x))+ 1\n",
    "\n",
    "def findroots(f,fp,xv=[1],err=1e-7,countl=100):\n",
    "# La función tiene como entradas necesarias la función f y su derivada fp\n",
    "# xv: La siguiente entrada es el vector de posibles valores iniciales x0\n",
    "# err: es la precisión con la que se quiere hallar las raíces\n",
    "# countl: es el número máximo de iteraciones en la búsqueda de una raíz. Esto evita que se caiga \n",
    "# en un bucle infinito\n",
    "    nr=len(xv)\n",
    "    xn=xv[0]\n",
    "    roots=[]\n",
    "    for ir in range(nr):        \n",
    "#---------------- Comienzo de búsqueda de raíz ---------------\n",
    "        count=0\n",
    "        while (abs(f(xn))>err):\n",
    "            if (count>countl):\n",
    "                break\n",
    "            feval=f(xn); fpeval=fp(xn)\n",
    "# Para monitorear el método, observamos el valor de xn y f(xn) en cada paso            \n",
    "            print(\"Valor de (x\"+str(count)+\",y\"+str(count)+\")=(\"+str(round(xn,3))+\",\"+str(round(f(xn),3))+\")\")\n",
    "            if (fpeval==0) :\n",
    "                xn=xn+0.1\n",
    "            else:\n",
    "                xn=xn-feval/fpeval\n",
    "            count+=1\n",
    "#---------------- Final de búsqueda de raíz ---------------             \n",
    "# Imprime el resultado de la búsqueda            \n",
    "        if (count>countl): \n",
    "            print(\"No se halló raíz. Se ha llegado al máximo número de iteraciones: \"+str(countl))\n",
    "        else:\n",
    "            print(\"Raíz hallada: (x\"+str(count)+\",y\"+str(count)+\")= (\",round(xn,3),\",\",round(f(xn),3),\")\")\n",
    "        roots.append(round(xn,3))\n",
    "# Paso a la siguiente búsqueda de raíz        \n",
    "        if (ir<nr-1):\n",
    "            xn=xv[ir+1]\n",
    "# El output es una lista de raíces con precisión a 3 cifras decimales        \n",
    "    return roots\n",
    "\n",
    "# Se llama la rutina y se muestran los resultados\n",
    "roots=findroots(fun,funp,[-2,-2.5,1])\n",
    "print(\"Raíces halladas: \"+str(roots))"
   ]
  },
  {
   "cell_type": "code",
   "execution_count": 21,
   "metadata": {},
   "outputs": [
    {
     "data": {
      "application/javascript": [
       "\n",
       "        if (window._pyforest_update_imports_cell) { window._pyforest_update_imports_cell('import numpy as np'); }\n",
       "    "
      ],
      "text/plain": [
       "<IPython.core.display.Javascript object>"
      ]
     },
     "metadata": {},
     "output_type": "display_data"
    },
    {
     "data": {
      "application/javascript": [
       "\n",
       "        if (window._pyforest_update_imports_cell) { window._pyforest_update_imports_cell('import numpy as np'); }\n",
       "    "
      ],
      "text/plain": [
       "<IPython.core.display.Javascript object>"
      ]
     },
     "metadata": {},
     "output_type": "display_data"
    },
    {
     "data": {
      "application/javascript": [
       "\n",
       "        if (window._pyforest_update_imports_cell) { window._pyforest_update_imports_cell('import numpy as np'); }\n",
       "    "
      ],
      "text/plain": [
       "<IPython.core.display.Javascript object>"
      ]
     },
     "metadata": {},
     "output_type": "display_data"
    },
    {
     "data": {
      "application/javascript": [
       "\n",
       "        if (window._pyforest_update_imports_cell) { window._pyforest_update_imports_cell('import numpy as np'); }\n",
       "    "
      ],
      "text/plain": [
       "<IPython.core.display.Javascript object>"
      ]
     },
     "metadata": {},
     "output_type": "display_data"
    },
    {
     "data": {
      "application/javascript": [
       "\n",
       "        if (window._pyforest_update_imports_cell) { window._pyforest_update_imports_cell('import numpy as np'); }\n",
       "    "
      ],
      "text/plain": [
       "<IPython.core.display.Javascript object>"
      ]
     },
     "metadata": {},
     "output_type": "display_data"
    },
    {
     "data": {
      "application/javascript": [
       "\n",
       "        if (window._pyforest_update_imports_cell) { window._pyforest_update_imports_cell('import numpy as np'); }\n",
       "    "
      ],
      "text/plain": [
       "<IPython.core.display.Javascript object>"
      ]
     },
     "metadata": {},
     "output_type": "display_data"
    },
    {
     "data": {
      "application/javascript": [
       "\n",
       "        if (window._pyforest_update_imports_cell) { window._pyforest_update_imports_cell('import numpy as np'); }\n",
       "    "
      ],
      "text/plain": [
       "<IPython.core.display.Javascript object>"
      ]
     },
     "metadata": {},
     "output_type": "display_data"
    },
    {
     "data": {
      "application/javascript": [
       "\n",
       "        if (window._pyforest_update_imports_cell) { window._pyforest_update_imports_cell('import numpy as np'); }\n",
       "    "
      ],
      "text/plain": [
       "<IPython.core.display.Javascript object>"
      ]
     },
     "metadata": {},
     "output_type": "display_data"
    },
    {
     "data": {
      "application/javascript": [
       "\n",
       "        if (window._pyforest_update_imports_cell) { window._pyforest_update_imports_cell('import numpy as np'); }\n",
       "    "
      ],
      "text/plain": [
       "<IPython.core.display.Javascript object>"
      ]
     },
     "metadata": {},
     "output_type": "display_data"
    },
    {
     "data": {
      "application/javascript": [
       "\n",
       "        if (window._pyforest_update_imports_cell) { window._pyforest_update_imports_cell('import numpy as np'); }\n",
       "    "
      ],
      "text/plain": [
       "<IPython.core.display.Javascript object>"
      ]
     },
     "metadata": {},
     "output_type": "display_data"
    },
    {
     "data": {
      "application/javascript": [
       "\n",
       "        if (window._pyforest_update_imports_cell) { window._pyforest_update_imports_cell('import numpy as np'); }\n",
       "    "
      ],
      "text/plain": [
       "<IPython.core.display.Javascript object>"
      ]
     },
     "metadata": {},
     "output_type": "display_data"
    },
    {
     "data": {
      "application/javascript": [
       "\n",
       "        if (window._pyforest_update_imports_cell) { window._pyforest_update_imports_cell('import numpy as np'); }\n",
       "    "
      ],
      "text/plain": [
       "<IPython.core.display.Javascript object>"
      ]
     },
     "metadata": {},
     "output_type": "display_data"
    },
    {
     "data": {
      "application/javascript": [
       "\n",
       "        if (window._pyforest_update_imports_cell) { window._pyforest_update_imports_cell('import numpy as np'); }\n",
       "    "
      ],
      "text/plain": [
       "<IPython.core.display.Javascript object>"
      ]
     },
     "metadata": {},
     "output_type": "display_data"
    },
    {
     "data": {
      "application/javascript": [
       "\n",
       "        if (window._pyforest_update_imports_cell) { window._pyforest_update_imports_cell('import numpy as np'); }\n",
       "    "
      ],
      "text/plain": [
       "<IPython.core.display.Javascript object>"
      ]
     },
     "metadata": {},
     "output_type": "display_data"
    },
    {
     "data": {
      "application/javascript": [
       "\n",
       "        if (window._pyforest_update_imports_cell) { window._pyforest_update_imports_cell('import numpy as np'); }\n",
       "    "
      ],
      "text/plain": [
       "<IPython.core.display.Javascript object>"
      ]
     },
     "metadata": {},
     "output_type": "display_data"
    },
    {
     "data": {
      "application/javascript": [
       "\n",
       "        if (window._pyforest_update_imports_cell) { window._pyforest_update_imports_cell('import numpy as np'); }\n",
       "    "
      ],
      "text/plain": [
       "<IPython.core.display.Javascript object>"
      ]
     },
     "metadata": {},
     "output_type": "display_data"
    },
    {
     "data": {
      "application/javascript": [
       "\n",
       "        if (window._pyforest_update_imports_cell) { window._pyforest_update_imports_cell('import numpy as np'); }\n",
       "    "
      ],
      "text/plain": [
       "<IPython.core.display.Javascript object>"
      ]
     },
     "metadata": {},
     "output_type": "display_data"
    },
    {
     "data": {
      "application/javascript": [
       "\n",
       "        if (window._pyforest_update_imports_cell) { window._pyforest_update_imports_cell('import numpy as np'); }\n",
       "    "
      ],
      "text/plain": [
       "<IPython.core.display.Javascript object>"
      ]
     },
     "metadata": {},
     "output_type": "display_data"
    },
    {
     "data": {
      "image/png": "[encoded data removed]",
      "text/plain": [
       "<Figure size 1200x600 with 1 Axes>"
      ]
     },
     "metadata": {
      "needs_background": "light"
     },
     "output_type": "display_data"
    }
   ],
   "source": [
    "#1.2 Gráficar el método\n",
    "\n",
    "\n",
    "#Definimos la función y la primera derivada\n",
    "fun= lambda x:(np.sin(5*x)*np.exp(-1*x))+x-2\n",
    "\n",
    "funp= lambda x:(((5*np.cos(5*x))-np.sin(5*x))*np.exp(-1*x))+ 1\n",
    "\n",
    "#Definimos los puntos por graficar\n",
    "x=np.linspace(-1,3,101)\n",
    "ygf=fun(x)\n",
    "x0=0.3\n",
    "y0=fun(x0)\n",
    "m0=funp(x0)\n",
    "#Definimos los puntos de la recta aproximada (g0-y0)/(x-x0)=m0\n",
    "yg0=y0+m0*(x-x0)\n",
    "#Definimos la siguiente iteración\n",
    "x1=x0-y0/m0\n",
    "y1=fun(x1)\n",
    "m1=funp(x1)\n",
    "yg1=y1+m1*(x-x1)\n",
    "#Definimos la siguiente iteración\n",
    "x2=x1-y1/m1\n",
    "y2=fun(x2)\n",
    "m2=funp(x2)\n",
    "yg2=y2+m2*(x-x2)\n",
    "\n",
    "plt.figure(figsize=(12,6),dpi=100)\n",
    "plt.plot(x,ygf)\n",
    "plt.plot(x,yg0)\n",
    "plt.plot(x,yg1)\n",
    "plt.plot(x,yg2)\n",
    "ax = plt.gca()\n",
    "ax.spines['right'].set_color('none')\n",
    "ax.spines['top'].set_color('none')\n",
    "ax.xaxis.set_ticks_position('bottom')\n",
    "ax.spines['bottom'].set_position(('data',0))\n",
    "ax.yaxis.set_ticks_position('left')\n",
    "ax.spines['left'].set_position(('data',0))\n",
    "plt.legend(['$f(x)=sen(5x)e^{-x}+x-2$','$g_0(x)$','$g_1(x)$','$g_2(x)$'])\n",
    "plt.ylim(-4,4)\n",
    "plt.xlim(-1,3)\n",
    "plt.show();\n"
   ]
  },
  {
   "cell_type": "markdown",
   "metadata": {},
   "source": [
    "## 2. Método de Barrido\n",
    "\n",
    "### 2.1 Hallar la raíz (Valor 0.8)\n",
    "\n",
    "Resuelva el mismo problema del caso anterior pero con método de barrido. Asegúrese de que la solución tenga la misma precisión. Para que el método no tarde tanto, debe escoger un intervalo de barrido más pequeño que $I=\\pas{1,3}$.\n",
    "\n",
    "### 2.2 Ilustración gráfica (Valor 0.7)\n",
    "\n",
    "Grafique la función $\\pav{f(x)}$ en el intervalo $I$ para que ilustre la solución anterior."
   ]
  },
  {
   "cell_type": "code",
   "execution_count": 2,
   "metadata": {},
   "outputs": [
    {
     "name": "stdout",
     "output_type": "stream",
     "text": [
      "La raiz encontrada fue en x=2.11 y su valor fue |f(x)|=0.000\n"
     ]
    },
    {
     "data": {
      "image/png": "[encoded data removed]",
      "text/plain": [
       "<Figure size 1200x600 with 1 Axes>"
      ]
     },
     "metadata": {
      "needs_background": "light"
     },
     "output_type": "display_data"
    }
   ],
   "source": [
    "#2. Método de Barrido\n",
    "#2.1 Hallar la raíz\n",
    "fun= lambda x:(nmp.sin(5*x)*nmp.exp(-1*x))+x-2\n",
    "xv=nmp.linspace(1,3,1000)\n",
    "fav=nmp.abs(fun(xv))\n",
    "i=nmp.argmin(fav)\n",
    "xr=xv[i]\n",
    "fxr=fav[i]\n",
    "print(\"La raiz encontrada fue en x={0:0.2f} y su valor fue |f(x)|={1:0.3f}\".format(xr,fxr))\n",
    "\n",
    "#2.2 Ilustración gráfica\n",
    "# Este función se lee como \"Get current axis\"\n",
    "plt.figure(figsize=(12,6),dpi=100)\n",
    "ax = plt.gca()\n",
    "plt.plot(xv,fav,color=(0.3,0.9,0.9,0.5))\n",
    "ax=plt.gca()\n",
    "ax.set_facecolor((0,0,0,0))\n",
    "for pos in ['right','top']:\n",
    "    ax.spines[pos].set_color('none')\n",
    "ax.spines['bottom'].set_position(('data',0))\n",
    "ax.spines['left'].set_position(('data',1))\n",
    "ax.yaxis.set_ticks_position('left')\n",
    "ax.set_title(\"Función $|f(x)|$\")\n",
    "ax.set_xlabel(\"x\")\n",
    "ax.set_ylabel(\"$|f(x)|=|sen(5x)e^{-x}+x-2|$\")\n",
    "plt.show()\n"
   ]
  },
  {
   "cell_type": "markdown",
   "metadata": {},
   "source": [
    "## 3. Método de Bisección (Valor 1.0)\n",
    "\n",
    "Resuelva el problema del **punto 1.1** pero con método de bisección. Muestre los intervalos $I_n$ de cada paso durante el método."
   ]
  },
  {
   "cell_type": "code",
   "execution_count": 35,
   "metadata": {},
   "outputs": [
    {
     "name": "stdout",
     "output_type": "stream",
     "text": [
      "[2.0, 3]\n",
      "[2.0, 2.5]\n",
      "[2.0, 2.25]\n",
      "[2.0, 2.125]\n",
      "[2.0625, 2.125]\n",
      "[2.09375, 2.125]\n",
      "[2.09375, 2.109375]\n",
      "[2.1015625, 2.109375]\n",
      "[2.10546875, 2.109375]\n",
      "[2.107421875, 2.109375]\n",
      "[2.1083984375, 2.109375]\n",
      "[2.10888671875, 2.109375]\n",
      "[2.109130859375, 2.109375]\n",
      "[2.1092529296875, 2.109375]\n",
      "[2.1092529296875, 2.10931396484375]\n",
      "[2.109283447265625, 2.10931396484375]\n",
      "[2.109283447265625, 2.1092987060546875]\n",
      "[2.1092910766601562, 2.1092987060546875]\n",
      "[2.1092910766601562, 2.109294891357422]\n",
      "[2.1092910766601562, 2.109292984008789]\n",
      "[2.1092920303344727, 2.109292984008789]\n",
      "[2.1092920303344727, 2.109292507171631]\n",
      "[2.1092922687530518, 2.109292507171631]\n",
      "[2.1092923879623413, 2.109292507171631]\n",
      "[2.109292447566986, 2.109292507171631]\n",
      "La raiz encontrada fue en x=2.1092925 y su valor fue f(x)=0.0000000\n"
     ]
    }
   ],
   "source": [
    "#3. Método de Bisección\n",
    "fun= lambda x:(nmp.sin(5*x)*nmp.exp(-1*x))+x-2\n",
    "err=1e-7\n",
    "b=3\n",
    "a=1.0\n",
    "prec=b-a\n",
    "#iteración de intervalos\n",
    "while (fun(a)*fun(b) != 0) and prec > err:\n",
    "    c=(a+b)/2\n",
    "    if fun(a)*fun(c) < 0:\n",
    "        b=c\n",
    "    else:\n",
    "        a=c\n",
    "    prec=b-a\n",
    "    print([a,b])\n",
    "#se resume la raíz encontrada\n",
    "if fun(b)==0:\n",
    "    xr=b\n",
    "elif fun(a)==0:\n",
    "    xr=a\n",
    "else:\n",
    "    xr=(a+b)/2\n",
    "print(\"La raiz encontrada fue en x={0:0.7f} y su valor fue f(x)={1:0.7f}\".format(xr,fun(xr)))"
   ]
  }
 ],
 "metadata": {
  "kernelspec": {
   "display_name": "Python 3",
   "language": "python",
   "name": "python3"
  },
  "language_info": {
   "codemirror_mode": {
    "name": "ipython",
    "version": 3
   },
   "file_extension": ".py",
   "mimetype": "text/x-python",
   "name": "python",
   "nbconvert_exporter": "python",
   "pygments_lexer": "ipython3",
   "version": "3.7.6"
  }
 },
 "nbformat": 4,
 "nbformat_minor": 2
}
